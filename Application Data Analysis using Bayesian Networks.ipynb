{
 "cells": [
  {
   "cell_type": "code",
   "execution_count": 1,
   "metadata": {},
   "outputs": [
    {
     "name": "stdout",
     "output_type": "stream",
     "text": [
      "Collecting pgmpy\n",
      "  Downloading pgmpy-0.1.6.tar.gz (218kB)\n",
      "Requirement already satisfied: networkx>=1.8.1 in c:\\programdata\\anaconda3\\lib\\site-packages (from pgmpy)\n",
      "Requirement already satisfied: scipy>=0.12.1 in c:\\programdata\\anaconda3\\lib\\site-packages (from pgmpy)\n",
      "Requirement already satisfied: numpy>=1.7.0 in c:\\programdata\\anaconda3\\lib\\site-packages (from pgmpy)\n",
      "Requirement already satisfied: decorator>=3.4.0 in c:\\programdata\\anaconda3\\lib\\site-packages (from networkx>=1.8.1->pgmpy)\n",
      "Building wheels for collected packages: pgmpy\n",
      "  Running setup.py bdist_wheel for pgmpy: started\n",
      "  Running setup.py bdist_wheel for pgmpy: finished with status 'done'\n",
      "  Stored in directory: C:\\Users\\pthiagu2\\AppData\\Local\\pip\\Cache\\wheels\\de\\4e\\99\\f82618aac7f15bf87212627ea07d8e83021b83f944108ddfda\n",
      "Successfully built pgmpy\n",
      "Installing collected packages: pgmpy\n",
      "Successfully installed pgmpy-0.1.6\n"
     ]
    }
   ],
   "source": [
    "!pip install pgmpy"
   ]
  },
  {
   "cell_type": "markdown",
   "metadata": {},
   "source": [
    "# Part 1"
   ]
  },
  {
   "cell_type": "code",
   "execution_count": 2,
   "metadata": {
    "collapsed": true
   },
   "outputs": [],
   "source": [
    "from pgmpy.models import BayesianModel\n",
    "from pgmpy.factors.discrete import TabularCPD"
   ]
  },
  {
   "cell_type": "code",
   "execution_count": 3,
   "metadata": {
    "collapsed": true
   },
   "outputs": [],
   "source": [
    "import numpy as np\n",
    "import matplotlib.pyplot as plt\n",
    "import matplotlib\n",
    "import pandas as pd\n",
    "import seaborn as sns\n",
    "from scipy import stats"
   ]
  },
  {
   "cell_type": "code",
   "execution_count": 4,
   "metadata": {
    "collapsed": true
   },
   "outputs": [],
   "source": [
    "data = pd.read_csv(\"task4_group5.csv\", sep='\\t')"
   ]
  },
  {
   "cell_type": "code",
   "execution_count": 5,
   "metadata": {},
   "outputs": [
    {
     "name": "stdout",
     "output_type": "stream",
     "text": [
      "No of entries in dataset: 10000\n"
     ]
    }
   ],
   "source": [
    "#No of entries\n",
    "print('No of entries in dataset:',len(data))"
   ]
  },
  {
   "cell_type": "code",
   "execution_count": 6,
   "metadata": {},
   "outputs": [
    {
     "name": "stdout",
     "output_type": "stream",
     "text": [
      "     MCE OS APP\n",
      "0      C  R   R\n",
      "1      U  X   F\n",
      "2      U  X   F\n",
      "3      C  R   R\n",
      "4      C  R   R\n",
      "5      C  R   R\n",
      "6      C  R   R\n",
      "7      C  R   R\n",
      "8      C  R   R\n",
      "9      C  R   R\n",
      "10     C  R   R\n",
      "11     C  R   R\n",
      "12     C  R   R\n",
      "13     C  R   R\n",
      "14     C  R   R\n",
      "15     C  R   R\n",
      "16     P  X   F\n",
      "17     P  R   R\n",
      "18     U  X   F\n",
      "19     C  R   R\n",
      "20     U  X   F\n",
      "21     P  R   R\n",
      "22     C  R   R\n",
      "23     C  R   R\n",
      "24     U  X   F\n",
      "25     P  R   R\n",
      "26     C  R   R\n",
      "27     P  R   R\n",
      "28     C  R   R\n",
      "29     C  R   R\n",
      "...   .. ..  ..\n",
      "9970   C  R   R\n",
      "9971   C  R   R\n",
      "9972   P  X   F\n",
      "9973   C  R   R\n",
      "9974   C  R   R\n",
      "9975   P  X   F\n",
      "9976   C  R   R\n",
      "9977   C  R   R\n",
      "9978   C  R   R\n",
      "9979   P  X   F\n",
      "9980   C  R   R\n",
      "9981   C  R   R\n",
      "9982   C  R   R\n",
      "9983   C  R   R\n",
      "9984   P  R   R\n",
      "9985   C  R   R\n",
      "9986   C  R   R\n",
      "9987   C  R   R\n",
      "9988   C  X   F\n",
      "9989   C  R   R\n",
      "9990   U  X   F\n",
      "9991   C  R   R\n",
      "9992   U  X   F\n",
      "9993   U  X   F\n",
      "9994   U  X   F\n",
      "9995   C  R   R\n",
      "9996   U  X   F\n",
      "9997   C  R   R\n",
      "9998   C  R   R\n",
      "9999   C  R   R\n",
      "\n",
      "[10000 rows x 3 columns]\n"
     ]
    }
   ],
   "source": [
    "print(data)"
   ]
  },
  {
   "cell_type": "markdown",
   "metadata": {},
   "source": [
    "# Part 2"
   ]
  },
  {
   "cell_type": "code",
   "execution_count": 7,
   "metadata": {},
   "outputs": [
    {
     "name": "stdout",
     "output_type": "stream",
     "text": [
      "Probability of Corrected Errors : 0.7036\n",
      "Probability of Uncorrected Errors : 0.1481\n",
      "Probability of Retry Processes : 0.1483\n"
     ]
    }
   ],
   "source": [
    "#Prior probabilities\n",
    "print('Probability of Corrected Errors :',len(data[data[\"MCE\"] == 'C'])/len(data))\n",
    "print('Probability of Uncorrected Errors :',len(data[data[\"MCE\"] == 'U'])/len(data))\n",
    "print('Probability of Retry Processes :',len(data[data[\"MCE\"] == 'P'])/len(data))"
   ]
  },
  {
   "cell_type": "code",
   "execution_count": 8,
   "metadata": {},
   "outputs": [
    {
     "name": "stdout",
     "output_type": "stream",
     "text": [
      "0.2876\n",
      "0.7124\n",
      "APP  OS\n",
      "F    X     0.820584\n",
      "     R     0.179416\n",
      "R    R     0.992981\n",
      "     X     0.007019\n",
      "Name: OS, dtype: float64\n",
      "APP  MCE\n",
      "F    U      0.508693\n",
      "     P      0.301460\n",
      "     C      0.189847\n",
      "R    C      0.911005\n",
      "     P      0.086468\n",
      "     U      0.002527\n",
      "Name: MCE, dtype: float64\n"
     ]
    }
   ],
   "source": [
    "print(len(data[data[\"APP\"] == 'F'])/len(data))\n",
    "print(len(data[data[\"APP\"] == 'R'])/len(data))\n",
    "print(data.groupby('APP')['OS'].value_counts()/data.groupby('APP')['OS'].count())\n",
    "print(data.groupby('APP')['MCE'].value_counts()/data.groupby('APP')['MCE'].count())"
   ]
  },
  {
   "cell_type": "code",
   "execution_count": 9,
   "metadata": {},
   "outputs": [
    {
     "name": "stdout",
     "output_type": "stream",
     "text": [
      "R    0.759\n",
      "X    0.241\n",
      "Name: OS, dtype: float64\n",
      "C    0.7036\n",
      "P    0.1483\n",
      "U    0.1481\n",
      "Name: MCE, dtype: float64\n"
     ]
    },
    {
     "data": {
      "text/plain": [
       "MCE  OS\n",
       "C    R     0.968732\n",
       "     X     0.031268\n",
       "P    R     0.508429\n",
       "     X     0.491571\n",
       "U    X     0.986496\n",
       "     R     0.013504\n",
       "Name: OS, dtype: float64"
      ]
     },
     "execution_count": 9,
     "metadata": {},
     "output_type": "execute_result"
    }
   ],
   "source": [
    "#to find OS probabilities \n",
    "print(data['OS'].value_counts()/data['OS'].count())\n",
    "print(data['MCE'].value_counts()/data['MCE'].count())\n",
    "data.groupby('MCE')['OS'].value_counts()/data.groupby('MCE')['OS'].count()"
   ]
  },
  {
   "cell_type": "code",
   "execution_count": 10,
   "metadata": {},
   "outputs": [
    {
     "name": "stdout",
     "output_type": "stream",
     "text": [
      "𝑃(𝑂𝑆=𝑅 /𝑀𝐶𝐸=𝐶) = 0.968732\n",
      "𝑃(𝑂𝑆=X /𝑀𝐶𝐸=𝐶) =  0.03126799999999996\n",
      "𝑃(𝑂𝑆=R /𝑀𝐶𝐸=P) = 0.508429\n",
      "𝑃(𝑂𝑆=X/𝑀𝐶𝐸=P) = 0.491571\n",
      "𝑃(𝑂𝑆=R /𝑀𝐶𝐸=U) = 0.013504\n",
      "𝑃(𝑂𝑆=X /𝑀𝐶𝐸=U) =  0.986496\n"
     ]
    }
   ],
   "source": [
    "#Bayes Theorem: P(A|B) = P(A) * P(B|A) / P(B)\n",
    "#𝑃 (𝑂𝑆=𝑅 /𝑀𝐶𝐸=𝐶)\n",
    "OS_R =  0.968732\n",
    "OS_RX = 1 - OS_R\n",
    "print('𝑃(𝑂𝑆=𝑅 /𝑀𝐶𝐸=𝐶) =',OS_R)\n",
    "print('𝑃(𝑂𝑆=X /𝑀𝐶𝐸=𝐶) = ',OS_RX)\n",
    "#𝑃(𝑂𝑆=R /𝑀𝐶𝐸=P)\n",
    "OS_P = 0.508429\n",
    "OS_PX = 1 - OS_P\n",
    "print('𝑃(𝑂𝑆=R /𝑀𝐶𝐸=P) =',OS_P)\n",
    "print('𝑃(𝑂𝑆=X/𝑀𝐶𝐸=P) =',OS_PX)\n",
    "#𝑃(𝑂𝑆=R /𝑀𝐶𝐸=U)\n",
    "OS_U =  0.013504\n",
    "OS_UX = 1 - OS_U\n",
    "print('𝑃(𝑂𝑆=R /𝑀𝐶𝐸=U) =',OS_U)\n",
    "print('𝑃(𝑂𝑆=X /𝑀𝐶𝐸=U) = ',OS_UX)"
   ]
  },
  {
   "cell_type": "code",
   "execution_count": 11,
   "metadata": {},
   "outputs": [
    {
     "name": "stdout",
     "output_type": "stream",
     "text": [
      "𝑃 (𝐴𝑝𝑝 = 𝑅 |𝑂𝑆 = 𝑅, 𝑀𝐶𝐸 = 𝑃) =  0.797252550170338\n",
      "𝑃 (𝐴𝑝𝑝 = F |𝑂𝑆 = 𝑅, 𝑀𝐶𝐸 = 𝑃) =  0.20274744982966197\n",
      "𝑃 (𝐴𝑝𝑝 = 𝑅 |𝑂𝑆 = 𝑅, 𝑀𝐶𝐸 = C) = 0.985026745610054\n",
      "𝑃 (𝐴𝑝𝑝 = F |𝑂𝑆 = 𝑅, 𝑀𝐶𝐸 = C) = 0.014973254389946011\n",
      "𝑃 (𝐴𝑝𝑝 = 𝑅 |𝑂𝑆 = 𝑅, 𝑀𝐶𝐸 = U) =  0.06376043459594719\n",
      "𝑃 (𝐴𝑝𝑝 = F|𝑂𝑆 = 𝑅, 𝑀𝐶𝐸 = U) = 0.9362395654040528\n",
      "𝑃 (𝐴𝑝𝑝 = 𝑅 |𝑂𝑆 = X, 𝑀𝐶𝐸 = P) = 0.006040620914343914\n",
      "𝑃 (𝐴𝑝𝑝 = F |𝑂𝑆 = X, 𝑀𝐶𝐸 = P) = 0.9939593790856561\n",
      "𝑃 (𝐴𝑝𝑝 = 𝑅 |𝑂𝑆 = X, 𝑀𝐶𝐸 = C) = 0.0922893678201005\n",
      "𝑃 (𝐴𝑝𝑝 = F |𝑂𝑆 = X, 𝑀𝐶𝐸 = C) =  0.9077106321798996\n",
      "𝑃 (𝐴𝑝𝑝 = 𝑅 |𝑂𝑆 = X, 𝑀𝐶𝐸 = U) = 0.00010524246185100736\n",
      "𝑃 (𝐴𝑝𝑝 = F |𝑂𝑆 = X, 𝑀𝐶𝐸 = U) = 0.9998947575381489\n"
     ]
    }
   ],
   "source": [
    "#Conditional Probabilities of Application\n",
    "#Formulae :P(App|OS,MCE)= P(OS|App)P(MCE|App)P(App) / (P(OS|App)P(MCE|App)P(App)+P(OS|¬App)P(MCE|¬App)P(¬App))\n",
    "#𝑃 (𝐴𝑝𝑝 = 𝑅 |𝑂𝑆 = 𝑅, 𝑀𝐶𝐸 = 𝑃)\n",
    "Conditional_RP = (0.992981 * 0.086468 * 0.7124)/((0.992981 * 0.086468 * 0.7124) + ( 0.179416 * 0.301460 * 0.2876 ))\n",
    "print('𝑃 (𝐴𝑝𝑝 = 𝑅 |𝑂𝑆 = 𝑅, 𝑀𝐶𝐸 = 𝑃) = ',Conditional_RP)\n",
    "Conditional_XP = 1 - Conditional_RP\n",
    "print('𝑃 (𝐴𝑝𝑝 = F |𝑂𝑆 = 𝑅, 𝑀𝐶𝐸 = 𝑃) = ',Conditional_XP)\n",
    "#𝑃 (𝐴𝑝𝑝 = 𝑅 |𝑂𝑆 = 𝑅, 𝑀𝐶𝐸 = C)\n",
    "Conditional_RC = (0.992981 * 0.911005 * 0.7124)/((0.992981 * 0.911005 * 0.7124) + ( 0.179416 *  0.189847 * 0.2876 ))\n",
    "print('𝑃 (𝐴𝑝𝑝 = 𝑅 |𝑂𝑆 = 𝑅, 𝑀𝐶𝐸 = C) =',Conditional_RC)\n",
    "Conditional_XC = 1 - Conditional_RC\n",
    "print('𝑃 (𝐴𝑝𝑝 = F |𝑂𝑆 = 𝑅, 𝑀𝐶𝐸 = C) =',Conditional_XC)\n",
    "#𝑃 (𝐴𝑝𝑝 = 𝑅 |𝑂𝑆 = 𝑅, 𝑀𝐶𝐸 = U)\n",
    "Conditional_RU = (0.992981 * 0.002527 * 0.7124)/((0.992981 * 0.002527 * 0.7124) + ( 0.179416 * 0.508693 * 0.2876 ))\n",
    "print('𝑃 (𝐴𝑝𝑝 = 𝑅 |𝑂𝑆 = 𝑅, 𝑀𝐶𝐸 = U) = ',Conditional_RU)\n",
    "Conditional_XU = 1 - Conditional_RU\n",
    "print('𝑃 (𝐴𝑝𝑝 = F|𝑂𝑆 = 𝑅, 𝑀𝐶𝐸 = U) =',Conditional_XU)\n",
    "#𝑃 (𝐴𝑝𝑝 = 𝑅 |𝑂𝑆 = X, 𝑀𝐶𝐸 = P)\n",
    "Conditional_RXU = ( 0.007019 * 0.086468 * 0.7124)/(( 0.007019 * 0.086468 * 0.7124) + (0.820584 * 0.301460 * 0.2876 ))\n",
    "print('𝑃 (𝐴𝑝𝑝 = 𝑅 |𝑂𝑆 = X, 𝑀𝐶𝐸 = P) =',Conditional_RXU)\n",
    "Conditional_XXU = 1 - Conditional_RXU\n",
    "print('𝑃 (𝐴𝑝𝑝 = F |𝑂𝑆 = X, 𝑀𝐶𝐸 = P) =',Conditional_XXU)\n",
    "#𝑃 (𝐴𝑝𝑝 = 𝑅 |𝑂𝑆 = X, 𝑀𝐶𝐸 = C)\n",
    "Conditional_RXC = (0.007019 * 0.911005 * 0.7124)/((0.007019 * 0.911005 * 0.7124) + ( 0.820584 *  0.189847 * 0.2876 ))\n",
    "print('𝑃 (𝐴𝑝𝑝 = 𝑅 |𝑂𝑆 = X, 𝑀𝐶𝐸 = C) =',Conditional_RXC)\n",
    "Conditional_XXC = 1 - Conditional_RXC\n",
    "print('𝑃 (𝐴𝑝𝑝 = F |𝑂𝑆 = X, 𝑀𝐶𝐸 = C) = ',Conditional_XXC)\n",
    "#𝑃 (𝐴𝑝𝑝 = 𝑅 |𝑂𝑆 = X, 𝑀𝐶𝐸 = U)\n",
    "Conditional_RU = (0.007019 * 0.002527 * 0.7124)/((0.007019 * 0.002527 * 0.7124) + (0.820584 * 0.508693 * 0.2876 ))\n",
    "print('𝑃 (𝐴𝑝𝑝 = 𝑅 |𝑂𝑆 = X, 𝑀𝐶𝐸 = U) =',Conditional_RU)\n",
    "Conditional_XU = 1 - Conditional_RU\n",
    "print('𝑃 (𝐴𝑝𝑝 = F |𝑂𝑆 = X, 𝑀𝐶𝐸 = U) =',Conditional_XU)"
   ]
  },
  {
   "cell_type": "markdown",
   "metadata": {},
   "source": [
    "# Part 3"
   ]
  },
  {
   "cell_type": "code",
   "execution_count": 12,
   "metadata": {},
   "outputs": [
    {
     "name": "stdout",
     "output_type": "stream",
     "text": [
      "𝑃(𝑀𝐶𝐸 = 𝐶, 𝐴𝑝𝑝 = 𝐹𝑎𝑖𝑙𝑒𝑑) = 0.0545999972\n",
      "𝑃(𝑀𝐶𝐸 = 𝑃, 𝐴𝑝𝑝 = 𝐹𝑎𝑖𝑙𝑒𝑑) = 0.08669989600000001\n",
      "𝑃(𝑀𝐶𝐸 = U, 𝐴𝑝𝑝 = 𝐹𝑎𝑖𝑙𝑒𝑑) = 0.1463001068\n",
      "𝑃(𝑂𝑆 = 𝑋, 𝐴𝑝𝑝 = 𝐹𝑎𝑖𝑙𝑒𝑑) = 0.23599995840000002\n",
      "𝑃(𝑂𝑆 = R, 𝐴𝑝𝑝 = 𝐹𝑎𝑖𝑙𝑒𝑑) = 0.0516000416\n"
     ]
    }
   ],
   "source": [
    "#Calculating Probabilities for HYpothesis Testing:\n",
    "#Applying chain rule\n",
    "#P(A,B) = p(A|B) p(B)\n",
    "#𝑃(𝑀𝐶𝐸 = 𝐶, 𝐴𝑝𝑝 = 𝐹𝑎𝑖𝑙𝑒𝑑)\n",
    "Prob_CF = 0.2876 *  0.189847\n",
    "print('𝑃(𝑀𝐶𝐸 = 𝐶, 𝐴𝑝𝑝 = 𝐹𝑎𝑖𝑙𝑒𝑑) =',Prob_CF)\n",
    "#𝑃(𝑀𝐶𝐸 = 𝑃, 𝐴𝑝𝑝 = 𝐹𝑎𝑖𝑙𝑒𝑑)\n",
    "Prob_PF = 0.2876 *  0.301460\n",
    "print('𝑃(𝑀𝐶𝐸 = 𝑃, 𝐴𝑝𝑝 = 𝐹𝑎𝑖𝑙𝑒𝑑) =',Prob_PF)\n",
    "#𝑃(𝑀𝐶𝐸 = U, 𝐴𝑝𝑝 = 𝐹𝑎𝑖𝑙𝑒𝑑)\n",
    "Prob_PU = 0.2876 * 0.508693\n",
    "print('𝑃(𝑀𝐶𝐸 = U, 𝐴𝑝𝑝 = 𝐹𝑎𝑖𝑙𝑒𝑑) =',Prob_PU)\n",
    "#𝑃(𝑂𝑆 = 𝑋, 𝐴𝑝𝑝 = 𝐹𝑎𝑖𝑙𝑒𝑑)\n",
    "Prob_XF = 0.2876 * 0.820584\n",
    "print('𝑃(𝑂𝑆 = 𝑋, 𝐴𝑝𝑝 = 𝐹𝑎𝑖𝑙𝑒𝑑) =',Prob_XF)\n",
    "#𝑃(𝑂𝑆 = R, 𝐴𝑝𝑝 = 𝐹𝑎𝑖𝑙𝑒𝑑)\n",
    "Prob_RF = 0.2876 *  0.179416\n",
    "print('𝑃(𝑂𝑆 = R, 𝐴𝑝𝑝 = 𝐹𝑎𝑖𝑙𝑒𝑑) =',Prob_RF)"
   ]
  },
  {
   "cell_type": "code",
   "execution_count": 13,
   "metadata": {},
   "outputs": [
    {
     "name": "stdout",
     "output_type": "stream",
     "text": [
      "Hypothesis 0 : 0.189847\n",
      "Hypothesis 1 : 0.30146\n",
      "Hypothesis 2 : 0.508693\n",
      "Hypothesis 3 : 0.820584\n",
      "Hypothesis 4 : 0.179416\n"
     ]
    }
   ],
   "source": [
    "#Hypothesis Testing\n",
    "#Formulae :𝑃(𝑀𝐶𝐸 = 𝐶 |𝐴𝑝𝑝 = 𝐹) = 𝑃(𝑀𝐶𝐸=𝐶,𝐴𝑝𝑝=𝐹)/Sum(𝑃(𝐻𝑖|𝐴𝑝𝑝=𝐹)\n",
    "#𝑃 (𝑀𝐶𝐸 = 𝐶 |𝐴𝑝𝑝 = 𝐹𝑎𝑖𝑙𝑒𝑑)\n",
    "Hypothesis_0 = Prob_CF /(Prob_CF + Prob_PF + Prob_PU)\n",
    "print('Hypothesis 0 :',Hypothesis_0)\n",
    "#𝑃 (𝑀𝐶𝐸 = P |𝐴𝑝𝑝 = 𝐹𝑎𝑖𝑙𝑒𝑑)\n",
    "Hypothesis_1 = Prob_PF /(Prob_CF + Prob_PF + Prob_PU)\n",
    "print('Hypothesis 1 :',Hypothesis_1)\n",
    "#𝑃 (𝑀𝐶𝐸 = U |𝐴𝑝𝑝 = 𝐹𝑎𝑖𝑙𝑒𝑑)\n",
    "Hypothesis_2 = Prob_PU /(Prob_CF + Prob_PF + Prob_PU)\n",
    "print('Hypothesis 2 :',Hypothesis_2)\n",
    "#𝑃 (OS = X |𝐴𝑝𝑝 = 𝐹𝑎𝑖𝑙𝑒𝑑)\n",
    "Hypothesis_3 = Prob_XF /(Prob_XF + Prob_RF)\n",
    "print('Hypothesis 3 :',Hypothesis_3)\n",
    "#𝑃 (OS = R |𝐴𝑝𝑝 = 𝐹𝑎𝑖𝑙𝑒𝑑)\n",
    "Hypothesis_4 = Prob_RF /(Prob_XF + Prob_RF)\n",
    "print('Hypothesis 4 :',Hypothesis_4)"
   ]
  },
  {
   "cell_type": "markdown",
   "metadata": {},
   "source": [
    "# Applying MAP decision Rule\n"
   ]
  },
  {
   "cell_type": "code",
   "execution_count": 14,
   "metadata": {},
   "outputs": [
    {
     "name": "stdout",
     "output_type": "stream",
     "text": [
      "MAP decision rule picks the hypothesis having the highest probability.Here it is Hypothesis 3 - 𝑃 (OS = X |𝐴𝑝𝑝 = 𝐹𝑎𝑖𝑙𝑒𝑑)\n"
     ]
    }
   ],
   "source": [
    "#Max(Hypothesis)\n",
    "print('MAP decision rule picks the hypothesis having the highest probability.Here it is Hypothesis 3 - 𝑃 (OS = X |𝐴𝑝𝑝 = 𝐹𝑎𝑖𝑙𝑒𝑑)')"
   ]
  },
  {
   "cell_type": "markdown",
   "metadata": {},
   "source": [
    "# Part 4"
   ]
  },
  {
   "cell_type": "code",
   "execution_count": 15,
   "metadata": {},
   "outputs": [
    {
     "name": "stdout",
     "output_type": "stream",
     "text": [
      "Probability of Failure 0.01996978349866995\n",
      "Probability of Running 0.0020303813013300255\n",
      "Both seems to have very low value.But Failure > Running .So the applications may fail\n"
     ]
    }
   ],
   "source": [
    "#MCE = ‘C’, OS = ‘X’\n",
    "#P(MCE=‘C’, OS=‘X’, Application=‘Failed’) =  P(MCE=‘C’) x P(OS=‘X’ | MCE=‘C’) x P(Application=‘Failed’ | OS=‘X’ , MCE=‘C’)\n",
    "#P(MCE=‘C’, OS=‘X’, Application=‘Running’) =  P(MCE=‘C’) x P(OS=‘X’ | MCE=‘C’) x P(Application=‘Running’ | OS=‘X’ , MCE=‘C’)\n",
    "Prob_CX = 0.7036 * 0.03126799999999996 * 0.9077106321798996\n",
    "Prob_CXR =  0.7036 * 0.03126799999999996 * 0.0922893678201005\n",
    "print('Probability of Failure',Prob_CX)\n",
    "print('Probability of Running',Prob_CXR)\n",
    "print(\"Both seems to have very low value.But Failure > Running .So the applications may fail\")"
   ]
  },
  {
   "cell_type": "code",
   "execution_count": 16,
   "metadata": {},
   "outputs": [
    {
     "name": "stdout",
     "output_type": "stream",
     "text": [
      "Probability of Failure 0.015287161914028725\n",
      "Probability of Running 0.06011285878597128\n",
      "Hence application is more likely to be running\n"
     ]
    }
   ],
   "source": [
    "#MCE = ‘P’, OS = ‘R’\n",
    "#P(MCE=‘P’, OS=‘R’, Application=‘Failed’) =  P(MCE=‘P’) x P(OS=‘R’ | MCE=‘P’) x P(Application=‘Failed’ | OS=‘R’ , MCE=‘P’)\n",
    "#P(MCE=‘P’, OS=‘R’, Application=‘Running’) =  P(MCE=‘P’) x P(OS=‘R’ | MCE=‘P’) x P(Application=‘Running’ | OS=‘R’ , MCE=‘P’)\n",
    "Prob_PR = 0.1483 * 0.508429 * 0.20274744982966197\n",
    "Prob_PRR = 0.1483 * 0.508429 * 0.797252550170338\n",
    "print('Probability of Failure',Prob_PR)\n",
    "print('Probability of Running',Prob_PRR)\n",
    "print(\"Hence application is more likely to be running\")"
   ]
  },
  {
   "cell_type": "code",
   "execution_count": 17,
   "metadata": {},
   "outputs": [
    {
     "name": "stdout",
     "output_type": "stream",
     "text": [
      "Probability of Failure 0.0018724252034091388\n",
      "Probability of Running 0.00012751719659086168\n",
      "Hence application is more likely to be failed even though values are small\n"
     ]
    }
   ],
   "source": [
    "#MCE = ‘U’, OS = ‘R’\n",
    "#P(MCE=‘U’, OS=‘R’, Application=‘Failed’) =  P(MCE=‘U’) x P(OS=‘R’ | MCE=‘U’) x P(Application=‘Failed’ | OS=‘R’ , MCE=‘U’)\n",
    "#P(MCE=‘U’, OS=‘R’, Application=‘Running’) =  P(MCE=‘U’) x P(OS=‘R’ | MCE=‘U’) x P(Application=‘Running’ | OS=‘R’ , MCE=‘U’)\n",
    "Prob_UR = 0.1481 * 0.013504 * 0.9362395654040528\n",
    "Prob_URR = 0.1481 * 0.013504 * 0.06376043459594719\n",
    "print('Probability of Failure',Prob_UR)\n",
    "print('Probability of Running',Prob_URR)\n",
    "print(\"Hence application is more likely to be failed even though values are small\")"
   ]
  },
  {
   "cell_type": "code",
   "execution_count": 18,
   "metadata": {},
   "outputs": [
    {
     "name": "stdout",
     "output_type": "stream",
     "text": [
      "Probability of Failure 0.14608468167026162\n",
      "Probability of Running 1.537592973839798e-05\n",
      "Hence application is more likely to be failed\n"
     ]
    }
   ],
   "source": [
    "#MCE = ‘U’, OS = ‘X’\n",
    "#P(MCE=‘U’, OS=‘X’, Application=‘Failed’) =  P(MCE=‘U’) x P(OS=‘X’ | MCE=‘U’) x P(Application=‘Failed’ | OS=‘X’ , MCE=‘U’)\n",
    "#P(MCE=‘U’, OS=‘X’, Application=‘Running’) =  P(MCE=‘U’) x P(OS=‘X’ | MCE=‘U’) x P(Application=‘Running’ | OS=‘X’ , MCE=‘U’)\n",
    "Prob_UX = 0.1481 * 0.986496 * 0.9998947575381489\n",
    "Prob_UXR = 0.1481 * 0.986496 * 0.00010524246185100736\n",
    "print('Probability of Failure',Prob_UX)\n",
    "print('Probability of Running',Prob_UXR)\n",
    "print(\"Hence application is more likely to be failed\")"
   ]
  },
  {
   "cell_type": "code",
   "execution_count": null,
   "metadata": {
    "collapsed": true
   },
   "outputs": [],
   "source": []
  }
 ],
 "metadata": {
  "kernelspec": {
   "display_name": "Python 3",
   "language": "python",
   "name": "python3"
  },
  "language_info": {
   "codemirror_mode": {
    "name": "ipython",
    "version": 3
   },
   "file_extension": ".py",
   "mimetype": "text/x-python",
   "name": "python",
   "nbconvert_exporter": "python",
   "pygments_lexer": "ipython3",
   "version": "3.6.4"
  }
 },
 "nbformat": 4,
 "nbformat_minor": 2
}
